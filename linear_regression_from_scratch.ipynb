{
  "cells": [
    {
      "cell_type": "markdown",
      "id": "improving-pepper",
      "metadata": {
        "id": "improving-pepper"
      },
      "source": [
        "# Assignment 1 - Question 3\n",
        "The objective of this assignment is to get you familiarize with  the  problem  of  `Linear Regression`.\n",
        "\n",
        "## Instructions\n",
        "- Write your code and analysis in the indicated cells.\n",
        "- Ensure that this notebook runs without errors when the cells are run in sequence.\n",
        "- Do not attempt to change the contents of other cells.\n",
        "- No inbuilt functions to be used until specified.\n",
        "\n",
        "## Submission\n",
        "- Ensure that this notebook runs without errors when the cells are run in sequence.\n",
        "- Rename the notebook to `<roll_number>_A1_Q3.ipynb`."
      ]
    },
    {
      "cell_type": "markdown",
      "id": "final-transaction",
      "metadata": {
        "id": "final-transaction"
      },
      "source": [
        "## 1.3.0 Background about the dataset\n",
        "\n",
        "TLDR: You have 25 independent variables (`x1, x2, x3, ... , x25`) type: `float` for each data point. You can use a linear combination of these 25 independent variables to predict the y (dependent variable) of each data point."
      ]
    },
    {
      "cell_type": "code",
      "source": [
        "%matplotlib inline"
      ],
      "metadata": {
        "id": "EGY4gtEQh8PZ"
      },
      "id": "EGY4gtEQh8PZ",
      "execution_count": 25,
      "outputs": []
    },
    {
      "cell_type": "code",
      "execution_count": 26,
      "id": "lyric-olympus",
      "metadata": {
        "id": "lyric-olympus"
      },
      "outputs": [],
      "source": [
        "import csv\n",
        "import random\n",
        "import numpy as np\n",
        "import matplotlib.pyplot as plt\n",
        "import pandas as pd"
      ]
    },
    {
      "cell_type": "code",
      "execution_count": 27,
      "id": "hundred-receipt",
      "metadata": {
        "id": "hundred-receipt"
      },
      "outputs": [],
      "source": [
        "train_data = list()\n",
        "with open('train_q3.csv', 'r') as infile:\n",
        "    input_rows = csv.DictReader(infile)\n",
        "    for row in input_rows:\n",
        "        data_point = ([float(row['x1']), float(row['x2']), float(row['x3']),\n",
        "                       float(row['x4']), float(row['x5']), float(row['x6']),\n",
        "                        float(row['x7']), float(row['x8']), float(row['x9']),\n",
        "                        float(row['x10']), float(row['x11']), float(row['x12']),\n",
        "                        float(row['x13']), float(row['x14']), float(row['x15']),\n",
        "                        float(row['x16']), float(row['x17']), float(row['x18']),\n",
        "                        float(row['x19']), float(row['x20']), float(row['x21']),\n",
        "                        float(row['x22']), float(row['x23']), float(row['x24']),\n",
        "                        float(row['x25'])], float(row['y']))\n",
        "        train_data.append(data_point)\n",
        "        \n",
        "# each point in x_train has 25 values - 1 for each feature\n",
        "x_train = [x[0] for x in train_data]\n",
        "# each point in y_train has 1 value - the 'y' of the molecule\n",
        "y_train = [x[1] for x in train_data]\n",
        "\n",
        "\n",
        "test_data = list()\n",
        "with open('test_q3.csv', 'r') as infile:\n",
        "    input_rows = csv.DictReader(infile)\n",
        "    for row in input_rows:\n",
        "        data_point = ([float(row['x1']), float(row['x2']), float(row['x3']),\n",
        "                        float(row['x4']), float(row['x5']), float(row['x6']),\n",
        "                        float(row['x7']), float(row['x8']), float(row['x9']),\n",
        "                        float(row['x10']), float(row['x11']), float(row['x12']),\n",
        "                        float(row['x13']), float(row['x14']), float(row['x15']),\n",
        "                        float(row['x16']), float(row['x17']), float(row['x18']),\n",
        "                        float(row['x19']), float(row['x20']), float(row['x21']),\n",
        "                        float(row['x22']), float(row['x23']), float(row['x24']),\n",
        "                        float(row['x25'])], float(row['y']))\n",
        "        test_data.append(data_point)\n",
        "\n",
        "x_test = [x[0] for x in test_data]\n",
        "y_test = [x[1] for x in test_data]"
      ]
    },
    {
      "cell_type": "markdown",
      "id": "square-direction",
      "metadata": {
        "id": "square-direction"
      },
      "source": [
        "### 1.3.1 Implement a Linear Regression model that minimizes the MSE **without using any libraries**. You may use NumPy to vectorize your code, but *do not use numpy.polyfit* or anything similar.\n",
        "\n",
        "1.3.1.1 Explain how you plan to implement Linear Regression in 5-10 lines.\n",
        "\n",
        "1.3.1.2 Implement Linear Regression using `x_train` and `y_train` as the train dataset.\n",
        "\n",
        "1.3.2.3 Choose the best learning rate and print the learning rate for which you achieved the best MSE.\n",
        "\n",
        "1.2.1.4 Make a [Parity Plot](https://en.wikipedia.org/wiki/Parity_plot) of your model's bandgap predictions on the test set with the actual values."
      ]
    },
    {
      "cell_type": "markdown",
      "id": "frozen-forth",
      "metadata": {
        "id": "frozen-forth"
      },
      "source": [
        "<!-- your answer to 1.3.1.1 -->\n",
        "`ANSWER 1.3.1.1`\n",
        "\n",
        "First an extra column is added with all values set to 1 for biasing.\n",
        "Then a array of weights is created with initial values set to 0.\n",
        "\n",
        "We do gradient descent as follows:\n",
        "\n",
        "we iterate n_times times, and in each iteration we compute our prediction based on the current weight values.\n",
        "\n",
        "i,e prediciton = X * W,\n",
        "\n",
        "based on this prediction we compute the gradient and then shift our weight values towards negative direction of gradient values by rate amount.\n",
        "\n",
        "after doing this for n_times times we reach to our final weight values and compute the final cost.\n",
        "\n",
        "Now we can predict values using x_test * W"
      ]
    },
    {
      "cell_type": "code",
      "execution_count": 28,
      "id": "angry-depression",
      "metadata": {
        "id": "angry-depression"
      },
      "outputs": [],
      "source": [
        "# # 1.3.1.2\n",
        "# # implement Linear Regression\n",
        "class linearRegression:\n",
        "  def fit(self, x_train, y_train, rate, n_times = 1000):\n",
        "    x_train = np.c_[x_train, np.ones(len(x_train))]\n",
        "    self.W = np.mat(np.zeros(x_train.shape[1])).T\n",
        "    y_train = np.mat(y_train).T\n",
        "    for i in range(n_times):\n",
        "      new_y = np.matmul(x_train, self.W)\n",
        "      gradient = -1*(np.matmul(x_train.T,(y_train-new_y))/len(x_train))\n",
        "      self.W -= rate*gradient\n",
        "    self.cost = np.mean(np.square(new_y - y_train))/2\n",
        "\n",
        "  def predict(self, x_test):\n",
        "    x_test = np.c_[x_test, np.ones(len(x_test))]\n",
        "    return np.matmul(x_test, self.W)"
      ]
    },
    {
      "cell_type": "code",
      "execution_count": 29,
      "id": "b19c0ac4",
      "metadata": {
        "id": "b19c0ac4",
        "colab": {
          "base_uri": "https://localhost:8080/"
        },
        "outputId": "610a760a-038a-4f1a-cde6-7a5c5d2068b3"
      },
      "outputs": [
        {
          "output_type": "stream",
          "name": "stdout",
          "text": [
            "Minimum MSE is 0.0002075197389252464 for learning rate value 1.0\n"
          ]
        }
      ],
      "source": [
        "# 1.3.2.3\n",
        "# try with different learning rates and choose the best one\n",
        "def cost_for_rate(x, y, rate):\n",
        "  LR = linearRegression()\n",
        "  LR.fit(x, y, rate = rate, n_times = 1000)\n",
        "  return LR.cost\n",
        "MSEs = [cost_for_rate(x_train, y_train, rate) for rate in np.linspace(0.01, 1, 100)]\n",
        "print(f'Minimum MSE is {min(MSEs)} for learning rate value {(MSEs.index(min(MSEs))+1)*0.01}')"
      ]
    },
    {
      "cell_type": "code",
      "execution_count": 30,
      "id": "foster-center",
      "metadata": {
        "id": "foster-center",
        "colab": {
          "base_uri": "https://localhost:8080/",
          "height": 458
        },
        "outputId": "18821a05-5fa9-44cf-d39a-a95c8b5331a6"
      },
      "outputs": [
        {
          "output_type": "display_data",
          "data": {
            "text/plain": [
              "<Figure size 504x504 with 1 Axes>"
            ],
            "image/png": "[encoded data removed]"
          },
          "metadata": {
            "needs_background": "light"
          }
        }
      ],
      "source": [
        "# 1.3.1.4\n",
        "# Get the predictions of x_test into `y_pred`\n",
        "LR = linearRegression()\n",
        "LR.fit(x_train, y_train, rate = 0.3)\n",
        "y_pred = LR.predict(x_test)\n",
        "\n",
        "y_pred = y_pred.tolist()\n",
        "\n",
        "fig, ax = plt.subplots(figsize=(7,7))\n",
        "\n",
        "ax.scatter(y_test, y_pred)\n",
        "\n",
        "lims = [\n",
        "    np.min([ax.get_xlim(), ax.get_ylim()]),\n",
        "    np.max([ax.get_xlim(), ax.get_ylim()]),\n",
        "]\n",
        "ax.plot(lims, lims, 'k-', alpha=0.75, zorder=0)\n",
        "ax.set_aspect('equal')\n",
        "ax.set_xlim(lims)\n",
        "ax.set_ylim(lims)\n",
        "\n",
        "ax.set_title('Parity Plot of Custom Linear Regression')\n",
        "ax.set_xlabel('Ground truth y-values')\n",
        "ax.set_ylabel('Predicted y-values')\n",
        "plt.show()"
      ]
    },
    {
      "cell_type": "markdown",
      "id": "dominant-chaos",
      "metadata": {
        "id": "dominant-chaos"
      },
      "source": [
        "### 1.3.2 Implement Ridge Regression\n",
        "\n",
        "1.3.2.1 Explain Ridge regression briefly in 1-2 lines.\n",
        "\n",
        "1.3.2.2 Implement Ridge regression and make a table of different RMSE scores you achieved with different values of alpha. What does the parameter `alpha` do?\n",
        "\n",
        "1.3.2.3 How does it affect the results here? Explain in 5-10 lines in total. (You can use scikit-learn from this cell onwards)\n",
        "\n",
        "1.3.2.4 Make a Parity Plot of Ridge Regression model's y-predictions on the test set with the actual values."
      ]
    },
    {
      "cell_type": "markdown",
      "id": "happy-cyprus",
      "metadata": {
        "id": "happy-cyprus"
      },
      "source": [
        "<!-- Your answer to 1.3.2.1 -->\n",
        "`1.3.2.1 Answer`\n",
        "\n",
        "Ridge Regression is a type of linear regression that is used to address the issue of multicollinearity in the data. It works by adding a penalty term to the cost function that penalizes large coefficients, effectively shrinking them towards zero. This helps prevent overfitting, which occurs when a model fits the noise in the data. The penalty term in Ridge Regression is L2 regularization, which has a smooth effect on the coefficients and is computationally efficient. "
      ]
    },
    {
      "cell_type": "code",
      "execution_count": 31,
      "id": "02a50a51",
      "metadata": {
        "id": "02a50a51",
        "colab": {
          "base_uri": "https://localhost:8080/",
          "height": 394
        },
        "outputId": "a73d508a-40ab-4042-bb86-7b2035696b77"
      },
      "outputs": [
        {
          "output_type": "execute_result",
          "data": {
            "text/plain": [
              "           alpha          RMSE\n",
              "0   1.000000e-15  2.629904e-05\n",
              "1   1.000000e-10  1.895240e-03\n",
              "2   1.000000e-08  9.787425e-03\n",
              "3   1.000000e-04  1.461433e-01\n",
              "4   1.000000e-03  7.406138e-02\n",
              "5   1.000000e-02  3.073871e-01\n",
              "6   0.000000e+00  3.408742e-07\n",
              "7   1.000000e+00  7.087133e-02\n",
              "8   5.000000e+00  3.620203e-01\n",
              "9   1.000000e+01  8.020393e-01\n",
              "10  2.000000e+01  1.443036e+00"
            ],
            "text/html": [
              "\n",
              "  <div id=\"df-16d89adb-0356-46e0-a4b4-c2deab3d871d\">\n",
              "    <div class=\"colab-df-container\">\n",
              "      <div>\n",
              "<style scoped>\n",
              "    .dataframe tbody tr th:only-of-type {\n",
              "        vertical-align: middle;\n",
              "    }\n",
              "\n",
              "    .dataframe tbody tr th {\n",
              "        vertical-align: top;\n",
              "    }\n",
              "\n",
              "    .dataframe thead th {\n",
              "        text-align: right;\n",
              "    }\n",
              "</style>\n",
              "<table border=\"1\" class=\"dataframe\">\n",
              "  <thead>\n",
              "    <tr style=\"text-align: right;\">\n",
              "      <th></th>\n",
              "      <th>alpha</th>\n",
              "      <th>RMSE</th>\n",
              "    </tr>\n",
              "  </thead>\n",
              "  <tbody>\n",
              "    <tr>\n",
              "      <th>0</th>\n",
              "      <td>1.000000e-15</td>\n",
              "      <td>2.629904e-05</td>\n",
              "    </tr>\n",
              "    <tr>\n",
              "      <th>1</th>\n",
              "      <td>1.000000e-10</td>\n",
              "      <td>1.895240e-03</td>\n",
              "    </tr>\n",
              "    <tr>\n",
              "      <th>2</th>\n",
              "      <td>1.000000e-08</td>\n",
              "      <td>9.787425e-03</td>\n",
              "    </tr>\n",
              "    <tr>\n",
              "      <th>3</th>\n",
              "      <td>1.000000e-04</td>\n",
              "      <td>1.461433e-01</td>\n",
              "    </tr>\n",
              "    <tr>\n",
              "      <th>4</th>\n",
              "      <td>1.000000e-03</td>\n",
              "      <td>7.406138e-02</td>\n",
              "    </tr>\n",
              "    <tr>\n",
              "      <th>5</th>\n",
              "      <td>1.000000e-02</td>\n",
              "      <td>3.073871e-01</td>\n",
              "    </tr>\n",
              "    <tr>\n",
              "      <th>6</th>\n",
              "      <td>0.000000e+00</td>\n",
              "      <td>3.408742e-07</td>\n",
              "    </tr>\n",
              "    <tr>\n",
              "      <th>7</th>\n",
              "      <td>1.000000e+00</td>\n",
              "      <td>7.087133e-02</td>\n",
              "    </tr>\n",
              "    <tr>\n",
              "      <th>8</th>\n",
              "      <td>5.000000e+00</td>\n",
              "      <td>3.620203e-01</td>\n",
              "    </tr>\n",
              "    <tr>\n",
              "      <th>9</th>\n",
              "      <td>1.000000e+01</td>\n",
              "      <td>8.020393e-01</td>\n",
              "    </tr>\n",
              "    <tr>\n",
              "      <th>10</th>\n",
              "      <td>2.000000e+01</td>\n",
              "      <td>1.443036e+00</td>\n",
              "    </tr>\n",
              "  </tbody>\n",
              "</table>\n",
              "</div>\n",
              "      <button class=\"colab-df-convert\" onclick=\"convertToInteractive('df-16d89adb-0356-46e0-a4b4-c2deab3d871d')\"\n",
              "              title=\"Convert this dataframe to an interactive table.\"\n",
              "              style=\"display:none;\">\n",
              "        \n",
              "  <svg xmlns=\"http://www.w3.org/2000/svg\" height=\"24px\"viewBox=\"0 0 24 24\"\n",
              "       width=\"24px\">\n",
              "    <path d=\"M0 0h24v24H0V0z\" fill=\"none\"/>\n",
              "    <path d=\"M18.56 5.44l.94 2.06.94-2.06 2.06-.94-2.06-.94-.94-2.06-.94 2.06-2.06.94zm-11 1L8.5 8.5l.94-2.06 2.06-.94-2.06-.94L8.5 2.5l-.94 2.06-2.06.94zm10 10l.94 2.06.94-2.06 2.06-.94-2.06-.94-.94-2.06-.94 2.06-2.06.94z\"/><path d=\"M17.41 7.96l-1.37-1.37c-.4-.4-.92-.59-1.43-.59-.52 0-1.04.2-1.43.59L10.3 9.45l-7.72 7.72c-.78.78-.78 2.05 0 2.83L4 21.41c.39.39.9.59 1.41.59.51 0 1.02-.2 1.41-.59l7.78-7.78 2.81-2.81c.8-.78.8-2.07 0-2.86zM5.41 20L4 18.59l7.72-7.72 1.47 1.35L5.41 20z\"/>\n",
              "  </svg>\n",
              "      </button>\n",
              "      \n",
              "  <style>\n",
              "    .colab-df-container {\n",
              "      display:flex;\n",
              "      flex-wrap:wrap;\n",
              "      gap: 12px;\n",
              "    }\n",
              "\n",
              "    .colab-df-convert {\n",
              "      background-color: #E8F0FE;\n",
              "      border: none;\n",
              "      border-radius: 50%;\n",
              "      cursor: pointer;\n",
              "      display: none;\n",
              "      fill: #1967D2;\n",
              "      height: 32px;\n",
              "      padding: 0 0 0 0;\n",
              "      width: 32px;\n",
              "    }\n",
              "\n",
              "    .colab-df-convert:hover {\n",
              "      background-color: #E2EBFA;\n",
              "      box-shadow: 0px 1px 2px rgba(60, 64, 67, 0.3), 0px 1px 3px 1px rgba(60, 64, 67, 0.15);\n",
              "      fill: #174EA6;\n",
              "    }\n",
              "\n",
              "    [theme=dark] .colab-df-convert {\n",
              "      background-color: #3B4455;\n",
              "      fill: #D2E3FC;\n",
              "    }\n",
              "\n",
              "    [theme=dark] .colab-df-convert:hover {\n",
              "      background-color: #434B5C;\n",
              "      box-shadow: 0px 1px 3px 1px rgba(0, 0, 0, 0.15);\n",
              "      filter: drop-shadow(0px 1px 2px rgba(0, 0, 0, 0.3));\n",
              "      fill: #FFFFFF;\n",
              "    }\n",
              "  </style>\n",
              "\n",
              "      <script>\n",
              "        const buttonEl =\n",
              "          document.querySelector('#df-16d89adb-0356-46e0-a4b4-c2deab3d871d button.colab-df-convert');\n",
              "        buttonEl.style.display =\n",
              "          google.colab.kernel.accessAllowed ? 'block' : 'none';\n",
              "\n",
              "        async function convertToInteractive(key) {\n",
              "          const element = document.querySelector('#df-16d89adb-0356-46e0-a4b4-c2deab3d871d');\n",
              "          const dataTable =\n",
              "            await google.colab.kernel.invokeFunction('convertToInteractive',\n",
              "                                                     [key], {});\n",
              "          if (!dataTable) return;\n",
              "\n",
              "          const docLinkHtml = 'Like what you see? Visit the ' +\n",
              "            '<a target=\"_blank\" href=https://colab.research.google.com/notebooks/data_table.ipynb>data table notebook</a>'\n",
              "            + ' to learn more about interactive tables.';\n",
              "          element.innerHTML = '';\n",
              "          dataTable['output_type'] = 'display_data';\n",
              "          await google.colab.output.renderOutput(dataTable, element);\n",
              "          const docLink = document.createElement('div');\n",
              "          docLink.innerHTML = docLinkHtml;\n",
              "          element.appendChild(docLink);\n",
              "        }\n",
              "      </script>\n",
              "    </div>\n",
              "  </div>\n",
              "  "
            ]
          },
          "metadata": {},
          "execution_count": 31
        }
      ],
      "source": [
        "# 1.3.2.2\n",
        "# you should not have imported sklearn before this point\n",
        "import sklearn\n",
        "import pandas as pd\n",
        "from sklearn.linear_model import Ridge\n",
        "from sklearn.metrics import mean_squared_error\n",
        "# implement Ridge regression and make a table where you explore the effect of different values of `alpha`\n",
        "alphas = [1e-15, 1e-10, 1e-8, 1e-4, 1e-3,1e-2,0, 1, 5, 10, 20]\n",
        "rmses=[]\n",
        "for a in alphas:\n",
        "    model=Ridge(alpha=a)\n",
        "    model.fit(x_train,y_train)\n",
        "    y_pred=model.predict(x_test)\n",
        "    rmse=mean_squared_error(y_test, y_pred, squared=False)\n",
        "    rmses.append(rmse)\n",
        "df=pd.DataFrame(list(zip(alphas,rmses)),columns=['alpha','RMSE'])\n",
        "df\n",
        "# Alpha value represents the amount by which we want to penalize the model to make it more generic\n",
        "\n",
        "# implement Ridge regression and make a table where you explore the effect of different values of `alpha`"
      ]
    },
    {
      "cell_type": "markdown",
      "id": "e54d36d9",
      "metadata": {
        "id": "e54d36d9"
      },
      "source": [
        "<!-- Your answer to 1.3.2.3 -->\n",
        "`1.3.2.3 Answer`\n",
        "\n",
        "RMSE or Root Mean Squared Error measures the average magnitude of the residuals or error.Here the Alpha value represents the amount by which we want to penalize the model to make it more generic( i.e. underfit).\n",
        "\n",
        "The value of alpha typically ranges from 0 - infinity. Higher the alpha coefficient, more generic our model. If the alpha value is very less then the model performs similarly to normal linear regression model. From the above table we can see that with decreasing alpha values the model becomes more accurate and RMSE score decreases. This is due to the fact that the particular dataset we are working on is very simple, so overfitting is very unlikely. Thus increasing the alpha values do not increase the RMSE score. In Ridge Regression, we can see that as the values of alpha increases, RMSE also increases, this is because Ridge Regression tends to make the weights of the parameters close to 0 rather than making it absolutely 0."
      ]
    },
    {
      "cell_type": "code",
      "source": [
        "# 1.3.2.4\n",
        "model=Ridge(alpha=0)\n",
        "model.fit(x_train,y_train)\n",
        "y_pred=model.predict(x_test)\n",
        "fig, ax = plt.subplots(figsize=(7,7))\n",
        "\n",
        "ax.scatter(y_test, y_pred)\n",
        "\n",
        "lims = [\n",
        "    np.min([ax.get_xlim(), ax.get_ylim()]),\n",
        "    np.max([ax.get_xlim(), ax.get_ylim()]),\n",
        "]\n",
        "ax.plot(lims, lims, 'k-', alpha=0.75, zorder=0)\n",
        "ax.set_aspect('equal')\n",
        "ax.set_xlim(lims)\n",
        "ax.set_ylim(lims)\n",
        "\n",
        "ax.set_title('Parity Plot of Ridge Linear Regression')\n",
        "ax.set_xlabel('Ground truth y-values')\n",
        "ax.set_ylabel('Predicted y-values')\n",
        "plt.show()"
      ],
      "metadata": {
        "colab": {
          "base_uri": "https://localhost:8080/",
          "height": 458
        },
        "id": "1jJzgfcHoqMo",
        "outputId": "9df3ed61-61f2-488c-d7cd-f1ef20e6f87e"
      },
      "id": "1jJzgfcHoqMo",
      "execution_count": 32,
      "outputs": [
        {
          "output_type": "display_data",
          "data": {
            "text/plain": [
              "<Figure size 504x504 with 1 Axes>"
            ],
            "image/png": "[encoded data removed]"
          },
          "metadata": {
            "needs_background": "light"
          }
        }
      ]
    },
    {
      "cell_type": "markdown",
      "id": "popular-wonder",
      "metadata": {
        "id": "popular-wonder"
      },
      "source": [
        "### 1.3.3 Implement Lasso Regression\n",
        "1.3.3.1 Explain Lasso regression briefly in 1-2 lines.\n",
        "\n",
        "1.3.3.2 Implement Lasso regression and make a table of different RMSE scores you achieved with different values of alpha.\n",
        "\n",
        "1.3.3.3 What does the parameter `alpha` do? How does it affect the results here? Explain in 5-10 lines in total.\n",
        "\n",
        "1.3.3.4 Make a Parity Plot of Lasso Regression model's y-predictions on the test set with the actual values."
      ]
    },
    {
      "cell_type": "markdown",
      "id": "mV9BlPIjm-K1",
      "metadata": {
        "id": "mV9BlPIjm-K1"
      },
      "source": [
        "<!-- Your answer to 1.3.3.1 -->\n",
        "`1.3.3.1 Answer`\n",
        "*Lasso regression, also known as the Least Absolute Shrinkage and Selection Operator, is a variation of linear regression that involves L1 regularization. This method involves adding a penalty term equal to the absolute value of the coefficients' magnitude, which can lead to sparse models with a limited number of coefficients. With increased penalties, the coefficient values approach zero, resulting in a simpler model. The Lasso regression technique is useful for reducing the complexity of models by eliminating insignificant coefficients and preserving only the most important features.*"
      ]
    },
    {
      "cell_type": "code",
      "execution_count": 33,
      "id": "09148bbc",
      "metadata": {
        "id": "09148bbc",
        "colab": {
          "base_uri": "https://localhost:8080/",
          "height": 363
        },
        "outputId": "f46a3aab-7eb5-48f6-a88f-9ca02878780a"
      },
      "outputs": [
        {
          "output_type": "execute_result",
          "data": {
            "text/plain": [
              "          alpha          RMSE\n",
              "0  1.000000e-15  2.629904e-05\n",
              "1  1.000000e-10  1.895240e-03\n",
              "2  1.000000e-08  9.787425e-03\n",
              "3  1.000000e-04  1.461433e-01\n",
              "4  1.000000e-03  7.406138e-02\n",
              "5  1.000000e-02  3.073871e-01\n",
              "6  1.000000e+00  3.408742e-07\n",
              "7  5.000000e+00  7.087133e-02\n",
              "8  1.000000e+01  3.620203e-01\n",
              "9  2.000000e+01  8.020393e-01"
            ],
            "text/html": [
              "\n",
              "  <div id=\"df-8f59c015-33e7-4d48-baec-522126d069ee\">\n",
              "    <div class=\"colab-df-container\">\n",
              "      <div>\n",
              "<style scoped>\n",
              "    .dataframe tbody tr th:only-of-type {\n",
              "        vertical-align: middle;\n",
              "    }\n",
              "\n",
              "    .dataframe tbody tr th {\n",
              "        vertical-align: top;\n",
              "    }\n",
              "\n",
              "    .dataframe thead th {\n",
              "        text-align: right;\n",
              "    }\n",
              "</style>\n",
              "<table border=\"1\" class=\"dataframe\">\n",
              "  <thead>\n",
              "    <tr style=\"text-align: right;\">\n",
              "      <th></th>\n",
              "      <th>alpha</th>\n",
              "      <th>RMSE</th>\n",
              "    </tr>\n",
              "  </thead>\n",
              "  <tbody>\n",
              "    <tr>\n",
              "      <th>0</th>\n",
              "      <td>1.000000e-15</td>\n",
              "      <td>2.629904e-05</td>\n",
              "    </tr>\n",
              "    <tr>\n",
              "      <th>1</th>\n",
              "      <td>1.000000e-10</td>\n",
              "      <td>1.895240e-03</td>\n",
              "    </tr>\n",
              "    <tr>\n",
              "      <th>2</th>\n",
              "      <td>1.000000e-08</td>\n",
              "      <td>9.787425e-03</td>\n",
              "    </tr>\n",
              "    <tr>\n",
              "      <th>3</th>\n",
              "      <td>1.000000e-04</td>\n",
              "      <td>1.461433e-01</td>\n",
              "    </tr>\n",
              "    <tr>\n",
              "      <th>4</th>\n",
              "      <td>1.000000e-03</td>\n",
              "      <td>7.406138e-02</td>\n",
              "    </tr>\n",
              "    <tr>\n",
              "      <th>5</th>\n",
              "      <td>1.000000e-02</td>\n",
              "      <td>3.073871e-01</td>\n",
              "    </tr>\n",
              "    <tr>\n",
              "      <th>6</th>\n",
              "      <td>1.000000e+00</td>\n",
              "      <td>3.408742e-07</td>\n",
              "    </tr>\n",
              "    <tr>\n",
              "      <th>7</th>\n",
              "      <td>5.000000e+00</td>\n",
              "      <td>7.087133e-02</td>\n",
              "    </tr>\n",
              "    <tr>\n",
              "      <th>8</th>\n",
              "      <td>1.000000e+01</td>\n",
              "      <td>3.620203e-01</td>\n",
              "    </tr>\n",
              "    <tr>\n",
              "      <th>9</th>\n",
              "      <td>2.000000e+01</td>\n",
              "      <td>8.020393e-01</td>\n",
              "    </tr>\n",
              "  </tbody>\n",
              "</table>\n",
              "</div>\n",
              "      <button class=\"colab-df-convert\" onclick=\"convertToInteractive('df-8f59c015-33e7-4d48-baec-522126d069ee')\"\n",
              "              title=\"Convert this dataframe to an interactive table.\"\n",
              "              style=\"display:none;\">\n",
              "        \n",
              "  <svg xmlns=\"http://www.w3.org/2000/svg\" height=\"24px\"viewBox=\"0 0 24 24\"\n",
              "       width=\"24px\">\n",
              "    <path d=\"M0 0h24v24H0V0z\" fill=\"none\"/>\n",
              "    <path d=\"M18.56 5.44l.94 2.06.94-2.06 2.06-.94-2.06-.94-.94-2.06-.94 2.06-2.06.94zm-11 1L8.5 8.5l.94-2.06 2.06-.94-2.06-.94L8.5 2.5l-.94 2.06-2.06.94zm10 10l.94 2.06.94-2.06 2.06-.94-2.06-.94-.94-2.06-.94 2.06-2.06.94z\"/><path d=\"M17.41 7.96l-1.37-1.37c-.4-.4-.92-.59-1.43-.59-.52 0-1.04.2-1.43.59L10.3 9.45l-7.72 7.72c-.78.78-.78 2.05 0 2.83L4 21.41c.39.39.9.59 1.41.59.51 0 1.02-.2 1.41-.59l7.78-7.78 2.81-2.81c.8-.78.8-2.07 0-2.86zM5.41 20L4 18.59l7.72-7.72 1.47 1.35L5.41 20z\"/>\n",
              "  </svg>\n",
              "      </button>\n",
              "      \n",
              "  <style>\n",
              "    .colab-df-container {\n",
              "      display:flex;\n",
              "      flex-wrap:wrap;\n",
              "      gap: 12px;\n",
              "    }\n",
              "\n",
              "    .colab-df-convert {\n",
              "      background-color: #E8F0FE;\n",
              "      border: none;\n",
              "      border-radius: 50%;\n",
              "      cursor: pointer;\n",
              "      display: none;\n",
              "      fill: #1967D2;\n",
              "      height: 32px;\n",
              "      padding: 0 0 0 0;\n",
              "      width: 32px;\n",
              "    }\n",
              "\n",
              "    .colab-df-convert:hover {\n",
              "      background-color: #E2EBFA;\n",
              "      box-shadow: 0px 1px 2px rgba(60, 64, 67, 0.3), 0px 1px 3px 1px rgba(60, 64, 67, 0.15);\n",
              "      fill: #174EA6;\n",
              "    }\n",
              "\n",
              "    [theme=dark] .colab-df-convert {\n",
              "      background-color: #3B4455;\n",
              "      fill: #D2E3FC;\n",
              "    }\n",
              "\n",
              "    [theme=dark] .colab-df-convert:hover {\n",
              "      background-color: #434B5C;\n",
              "      box-shadow: 0px 1px 3px 1px rgba(0, 0, 0, 0.15);\n",
              "      filter: drop-shadow(0px 1px 2px rgba(0, 0, 0, 0.3));\n",
              "      fill: #FFFFFF;\n",
              "    }\n",
              "  </style>\n",
              "\n",
              "      <script>\n",
              "        const buttonEl =\n",
              "          document.querySelector('#df-8f59c015-33e7-4d48-baec-522126d069ee button.colab-df-convert');\n",
              "        buttonEl.style.display =\n",
              "          google.colab.kernel.accessAllowed ? 'block' : 'none';\n",
              "\n",
              "        async function convertToInteractive(key) {\n",
              "          const element = document.querySelector('#df-8f59c015-33e7-4d48-baec-522126d069ee');\n",
              "          const dataTable =\n",
              "            await google.colab.kernel.invokeFunction('convertToInteractive',\n",
              "                                                     [key], {});\n",
              "          if (!dataTable) return;\n",
              "\n",
              "          const docLinkHtml = 'Like what you see? Visit the ' +\n",
              "            '<a target=\"_blank\" href=https://colab.research.google.com/notebooks/data_table.ipynb>data table notebook</a>'\n",
              "            + ' to learn more about interactive tables.';\n",
              "          element.innerHTML = '';\n",
              "          dataTable['output_type'] = 'display_data';\n",
              "          await google.colab.output.renderOutput(dataTable, element);\n",
              "          const docLink = document.createElement('div');\n",
              "          docLink.innerHTML = docLinkHtml;\n",
              "          element.appendChild(docLink);\n",
              "        }\n",
              "      </script>\n",
              "    </div>\n",
              "  </div>\n",
              "  "
            ]
          },
          "metadata": {},
          "execution_count": 33
        }
      ],
      "source": [
        "# 1.3.3.2\n",
        "# implement Lasso regression and make a table where you explore the effect of different values of `alpha`\n",
        "from sklearn.linear_model import Lasso\n",
        "alphas = [1e-15, 1e-10, 1e-8, 1e-4, 1e-3,1e-2, 1, 5, 10, 20]\n",
        "for a in alphas:\n",
        "  model=Lasso(alpha=a)\n",
        "  model.fit(x_train,y_train)\n",
        "  y_pred=model.predict(x_test)\n",
        "  rmse=mean_squared_error(y_test, y_pred, squared=False)\n",
        "  rmses.append(rmse)\n",
        "df=pd.DataFrame(list(zip(alphas,rmses)),columns=['alpha','RMSE'])\n",
        "df"
      ]
    },
    {
      "cell_type": "markdown",
      "id": "Hq5eyeqem-K2",
      "metadata": {
        "id": "Hq5eyeqem-K2"
      },
      "source": [
        "<!-- Your answer to 1.3.3.3 -->\n",
        "`1.3.3.3 Answer`\n",
        "RMSE or Root Mean Squared Error measures the average magnitude of the residuals or error.Here the Alpha value represents the amount by which we want to penalize the model to make it more generic( i.e. underfit).\n",
        "\n",
        "The value of alpha typically ranges from 0 - infinity. Higher the alpha coefficient, more generic our model. If the alpha value is very less then the model performs similarly to normal linear regression model. From the above table we can see that with decreasing alpha values the model becomes more accurate and RMSE score decreases. This is due to the fact that the particular dataset we are working on is very simple, so overfitting is very unlikely. Thus increasing the alpha values do not increase the RMSE score. In Lasso Regression, we can see that as the values of alpha increases, RMSE also increases, this is because Ridge Regression tends to make the weights of the parameters close to 0 rather than making it absolutely 0."
      ]
    },
    {
      "cell_type": "code",
      "source": [
        "# 1.3.3.4\n",
        "model=Ridge(alpha=0)\n",
        "model.fit(x_train,y_train)\n",
        "y_pred=model.predict(x_test)\n",
        "fig, ax = plt.subplots(figsize=(7,7))\n",
        "\n",
        "ax.scatter(y_test, y_pred)\n",
        "\n",
        "lims = [\n",
        "    np.min([ax.get_xlim(), ax.get_ylim()]),\n",
        "    np.max([ax.get_xlim(), ax.get_ylim()]),\n",
        "]\n",
        "ax.plot(lims, lims, 'k-', alpha=0.75, zorder=0)\n",
        "ax.set_aspect('equal')\n",
        "ax.set_xlim(lims)\n",
        "ax.set_ylim(lims)\n",
        "\n",
        "ax.set_title('Parity Plot of Lasso Linear Regression')\n",
        "ax.set_xlabel('Ground truth y-values')\n",
        "ax.set_ylabel('Predicted y-values')\n",
        "plt.show()"
      ],
      "metadata": {
        "colab": {
          "base_uri": "https://localhost:8080/",
          "height": 458
        },
        "id": "q1Ai5lFAo-eD",
        "outputId": "0e05d451-d24e-4362-8fa9-cf1dc1da218a"
      },
      "id": "q1Ai5lFAo-eD",
      "execution_count": 34,
      "outputs": [
        {
          "output_type": "display_data",
          "data": {
            "text/plain": [
              "<Figure size 504x504 with 1 Axes>"
            ],
            "image/png": "[encoded data removed]"
          },
          "metadata": {
            "needs_background": "light"
          }
        }
      ]
    }
  ],
  "metadata": {
    "colab": {
      "provenance": []
    },
    "kernelspec": {
      "display_name": "Python 3 (ipykernel)",
      "language": "python",
      "name": "python3"
    },
    "language_info": {
      "codemirror_mode": {
        "name": "ipython",
        "version": 3
      },
      "file_extension": ".py",
      "mimetype": "text/x-python",
      "name": "python",
      "nbconvert_exporter": "python",
      "pygments_lexer": "ipython3",
      "version": "3.8.6"
    }
  },
  "nbformat": 4,
  "nbformat_minor": 5
}